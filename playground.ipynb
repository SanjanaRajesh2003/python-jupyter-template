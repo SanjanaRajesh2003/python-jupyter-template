{
 "cells": [
  {
   "cell_type": "code",
   "execution_count": 2,
   "metadata": {},
   "outputs": [
    {
     "name": "stdout",
     "output_type": "stream",
     "text": [
      "[[0.82304839 0.98908845 0.53497397 0.65062967 0.6599521 ]\n",
      " [0.6447326  0.07202964 0.34493574 0.26194337 0.79875076]\n",
      " [0.67484897 0.09242755 0.57279156 0.57910127 0.61306755]\n",
      " [0.98792313 0.20839454 0.09021203 0.06385128 0.05275375]\n",
      " [0.19015065 0.30098542 0.67823416 0.65155039 0.21485168]]\n"
     ]
    }
   ],
   "source": [
    "import numpy as np\n",
    "print(np.random.rand(5, 5))"
   ]
  }
 ],
 "metadata": {
  "kernelspec": {
   "display_name": "Python 3",
   "language": "python",
   "name": "python3"
  },
  "language_info": {
   "codemirror_mode": {
    "name": "ipython",
    "version": 3
   },
   "file_extension": ".py",
   "mimetype": "text/x-python",
   "name": "python",
   "nbconvert_exporter": "python",
   "pygments_lexer": "ipython3",
   "version": "3.10.12"
  }
 },
 "nbformat": 4,
 "nbformat_minor": 2
}
